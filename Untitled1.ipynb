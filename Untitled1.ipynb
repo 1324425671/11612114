{
 "cells": [
  {
   "cell_type": "code",
   "execution_count": null,
   "metadata": {},
   "outputs": [],
   "source": [
    "import socket, threading\n",
    "import asyncio\n",
    "class Echo(threading.Thread):\n",
    "def __init__(self, conn, address):\n",
    "threading.Thread.__init__(self)\n",
    "self.conn= conn\n",
    "self.address= address\n",
    "def run(self):\n",
    "while True:\n",
    "data = self.conn.recv(2048)\n",
    "if data and data != b'exit\\r\\n':\n",
    "self.conn.send(data)\n",
    "print('{} sent: {}'.format(self.address, data))\n",
    "else:\n",
    "self.conn.close()\n",
    "return\n",
    "\n",
    "def echo():\n",
    "sock = socket.socket(socket.AF_INET, socket.SOCK_STREAM)\n",
    "sock.bind(('127.0.0.1', 5555))\n",
    "sock.listen(10)\n",
    "while True:\n",
    "conn, address = sock.accept()\n",
    "Echo(conn, address).start()\n",
    "if __name__ == \"__main__\":\n",
    "try:\n",
    "echo()\n",
    "except KeyboardInterrupt:\n",
    "pass"
   ]
  },
  {
   "cell_type": "code",
   "execution_count": null,
   "metadata": {},
   "outputs": [],
   "source": []
  },
  {
   "cell_type": "code",
   "execution_count": 1,
   "metadata": {},
   "outputs": [
    {
     "name": "stdout",
     "output_type": "stream",
     "text": [
      "mmm\n"
     ]
    }
   ],
   "source": [
    "print (\"mmm\")"
   ]
  },
  {
   "cell_type": "code",
   "execution_count": null,
   "metadata": {},
   "outputs": [],
   "source": []
  }
 ],
 "metadata": {
  "kernelspec": {
   "display_name": "Python 3",
   "language": "python",
   "name": "python3"
  },
  "language_info": {
   "codemirror_mode": {
    "name": "ipython",
    "version": 3
   },
   "file_extension": ".py",
   "mimetype": "text/x-python",
   "name": "python",
   "nbconvert_exporter": "python",
   "pygments_lexer": "ipython3",
   "version": "3.6.5"
  }
 },
 "nbformat": 4,
 "nbformat_minor": 2
}
